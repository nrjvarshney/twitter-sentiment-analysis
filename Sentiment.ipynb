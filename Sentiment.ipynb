{
 "cells": [
  {
   "cell_type": "code",
   "execution_count": 1,
   "metadata": {},
   "outputs": [],
   "source": [
    "import re \n",
    "import tweepy \n",
    "from tweepy import OAuthHandler \n",
    "from textblob import TextBlob"
   ]
  },
  {
   "cell_type": "code",
   "execution_count": 16,
   "metadata": {},
   "outputs": [],
   "source": [
    "# copy keys from here https://developer.twitter.com/en/apps\n",
    "consumer_key = ''\n",
    "consumer_secret = ''\n",
    "access_token = ''\n",
    "access_token_secret = ''\n",
    "\n",
    "auth = tweepy.OAuthHandler(consumer_key, consumer_secret)\n",
    "auth.set_access_token(access_token, access_token_secret)\n",
    "api = tweepy.API(auth)"
   ]
  },
  {
   "cell_type": "code",
   "execution_count": 26,
   "metadata": {},
   "outputs": [],
   "source": [
    "search_term = \"Microsoft\"\n",
    "tweets = api.search(q= search_term, count = 100)"
   ]
  },
  {
   "cell_type": "code",
   "execution_count": 30,
   "metadata": {},
   "outputs": [],
   "source": [
    "positive = 0\n",
    "negative = 0\n",
    "neutral = 0\n",
    "polarity = 0"
   ]
  },
  {
   "cell_type": "code",
   "execution_count": 31,
   "metadata": {},
   "outputs": [
    {
     "name": "stdout",
     "output_type": "stream",
     "text": [
      "(42, 5, 53)\n"
     ]
    }
   ],
   "source": [
    "for tweet in tweets:\n",
    "#     print (tweet.text)\n",
    "    analysis = TextBlob(tweet.text)\n",
    "    polarity += analysis.sentiment.polarity\n",
    "    \n",
    "    if(analysis.sentiment.polarity == 0):\n",
    "        neutral += 1\n",
    "    if(analysis.sentiment.polarity > 0):\n",
    "        positive += 1\n",
    "    if(analysis.sentiment.polarity < 0):\n",
    "        negative += 1\n",
    "\n",
    "print(positive,negative,neutral)"
   ]
  }
 ],
 "metadata": {
  "kernelspec": {
   "display_name": "Python 2",
   "language": "python",
   "name": "python2"
  },
  "language_info": {
   "codemirror_mode": {
    "name": "ipython",
    "version": 2
   },
   "file_extension": ".py",
   "mimetype": "text/x-python",
   "name": "python",
   "nbconvert_exporter": "python",
   "pygments_lexer": "ipython2",
   "version": "2.7.15"
  }
 },
 "nbformat": 4,
 "nbformat_minor": 2
}
